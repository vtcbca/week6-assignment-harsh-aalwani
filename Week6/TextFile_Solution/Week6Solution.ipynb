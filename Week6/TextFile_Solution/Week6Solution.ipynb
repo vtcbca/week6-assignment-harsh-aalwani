{
 "cells": [
  {
   "cell_type": "code",
   "execution_count": null,
   "id": "3503ac8e",
   "metadata": {},
   "outputs": [],
   "source": [
    "'''\n",
    "Program 1: Read Python.txt file and Print it in Reverse.\n",
    "Program 2: Read Python.txt file and Print total number of lines and words in it.\n",
    "Program 3: Read Python.txt file and Print unique word with its count.\n",
    "Program 4: Read Python.txt file and Print largest and smallest word from it.\n",
    "Program 5: Read Python.txt file. Convert it into upper case and write into another file \"Python_Upper.txt\"\n",
    "\n",
    "Python.txt [Content]:-\n",
    "\n",
    "Python is a popular general-purpose programming language.\n",
    "It was created by Guido van Rossum, and released in 1991.\n",
    "It is used in machine learning, web development, desktop applications, and many other fields.\n",
    "Fortunately for beginners, Python has a simple, easy-to-use syntax.\n",
    "This makes Python a great language to learn for beginners.\n",
    "Why Learn Python?\n",
    "Python is easy to learn. Its syntax is easy and code is very readable.\n",
    "Python has a lot of applications. It's used for developing web applications, data science, rapid application development,and so on.\n",
    "Python allows you to write programs in fewer lines of code than most of the programming languages.\n",
    "The popularity of Python is growing rapidly. Now it's one of the most popular programming languages.'''"
   ]
  },
  {
   "cell_type": "markdown",
   "id": "619e515b",
   "metadata": {},
   "source": [
    "## Writing Content inside Python.txt"
   ]
  },
  {
   "cell_type": "code",
   "execution_count": 205,
   "id": "d9db490e",
   "metadata": {},
   "outputs": [],
   "source": [
    "def writeFun():\n",
    "    with open(\"D:\\\\pythonnote\\\\Python.txt\",\"w\") as file_writer:\n",
    "        text_data=[['Python is a popular general-purpose programming language. \\n'],\n",
    "                   ['It was created by Guido van Rossum, and released in 1991. \\n'],\n",
    "                   ['It is used in machine learning, web development, desktop applications, and many other fields. \\n'],\n",
    "                   ['Fortunately for beginners, Python has a simple, easy-to-use syntax. \\n'],\n",
    "                   ['This makes Python a great language to learn for beginners. \\n'],\n",
    "                   ['Why Learn Python? \\n'],\n",
    "                   ['Python is easy to learn. Its syntax is easy and code is very readable. \\n'],\n",
    "                   [\"Python has a lot of applications. It's used for developing web applications, data science, rapid application development, and so on. \\n\"],\n",
    "                   ['Python allows you to write programs in fewer lines of code than most of the programming languages. \\n'],\n",
    "                   [\"The popularity of Python is growing rapidly. Now it's one of the most popular programming languages. \\n\"]]\n",
    "        for line in text_data:\n",
    "            file_writer.writelines(line)     \n",
    "    print(\"File Written Successfully\")"
   ]
  },
  {
   "cell_type": "markdown",
   "id": "dc5f4447",
   "metadata": {},
   "source": [
    "## Reversing Lines from File"
   ]
  },
  {
   "cell_type": "code",
   "execution_count": 206,
   "id": "6b82b305",
   "metadata": {},
   "outputs": [],
   "source": [
    "def reverseFun():\n",
    "    with open(\"D:\\\\pythonnote\\\\Python.txt\",\"r\") as rev_data:\n",
    "        lines=rev_data.readlines()\n",
    "        reversed_line=lines[::-1]      #Negative Indexing to reverse list\n",
    "        print(\"File Reversed: \\n\\n\")\n",
    "        for line in reversed_line:\n",
    "            print(line)"
   ]
  },
  {
   "cell_type": "markdown",
   "id": "bfc25566",
   "metadata": {},
   "source": [
    "## Printing Number of Lines and Words"
   ]
  },
  {
   "cell_type": "code",
   "execution_count": 207,
   "id": "e70e6476",
   "metadata": {},
   "outputs": [],
   "source": [
    "def numberFun():\n",
    "    wordList = []\n",
    "    with open(\"D:\\\\pythonnote\\\\Python.txt\", 'r') as reader_file:\n",
    "        line_count=0\n",
    "        for line in reader_file:\n",
    "            line_count=line_count+1\n",
    "            words = line.split()\n",
    "            for word in words:\n",
    "                word = word.strip('.,!?()[]{}\":;')    # Remove punctuations\n",
    "                word = word.lower()        #Converts to lowercase\n",
    "                wordList.append(word)     #Appending in a list of words\n",
    "        wordList=len(wordList) \n",
    "    print(\"Number of Lines: {}\".format(line_count))\n",
    "    print(\"Number of words: {}\".format(wordList))"
   ]
  },
  {
   "cell_type": "markdown",
   "id": "8238e2ed",
   "metadata": {},
   "source": [
    "## Unique Word inside File"
   ]
  },
  {
   "cell_type": "code",
   "execution_count": 208,
   "id": "c070c8c1",
   "metadata": {},
   "outputs": [],
   "source": [
    "def UniqueFun():\n",
    "    def getKey(minValue,wordDict):\n",
    "        for key, value in wordDict.items():\n",
    "            if minValue == value:\n",
    "                return key\n",
    "    wordDict = {}\n",
    "    with open(\"D:\\\\pythonnote\\\\Python.txt\", 'r') as reader_file:\n",
    "        for line in reader_file:\n",
    "            words = line.split()\n",
    "            for word in words:\n",
    "                word = word.strip('.,!?()[]{}\":;')    #Remove Punctuations\n",
    "                word = word.lower()        #Converts to lowercase\n",
    "                if word in wordDict:\n",
    "                    wordDict[word] += 1     #If already exist in list, count gets incremented\n",
    "                else:\n",
    "                    wordDict[word] = 1      #If doesn't exist, gets added with counter 1\n",
    "    unique_counter=min(wordDict.values())    #Taking smallest counter value\n",
    "    unique_word=getKey(unique_counter,wordDict)    #Taking key of the counter\n",
    "    print(\"Unique Word is '{}' with {}\".format(unique_word,unique_counter))"
   ]
  },
  {
   "cell_type": "markdown",
   "id": "6d792f4e",
   "metadata": {},
   "source": [
    "## Smallest Word and Largest Word in File"
   ]
  },
  {
   "cell_type": "code",
   "execution_count": 209,
   "id": "3a42235b",
   "metadata": {},
   "outputs": [],
   "source": [
    "def SmallandLargeFun():\n",
    "    wordList = []\n",
    "    with open(\"D:\\\\pythonnote\\\\Python.txt\", 'r') as reader_file:\n",
    "        for line in reader_file:\n",
    "            words = line.split()\n",
    "            for word in words:\n",
    "                # Remove punctuation and convert to lowercase\n",
    "                word = word.strip('.,!?()[]{}\":;')    #Remove Puntuations\n",
    "                word = word.lower()       #Converts to lowercase\n",
    "                if word not in wordList:\n",
    "                    wordList.append(word)    #If doesn't exist, gets added\n",
    "        smallest = min(wordList, key=len)    #Smallest word from list using len and min\n",
    "        largest = max(wordList, key=len)     #Largest word from list using len and max\n",
    "        print(\"The smallest word is: {}\".format(smallest))\n",
    "        print(\"The largest word is: {}\".format(largest))"
   ]
  },
  {
   "cell_type": "markdown",
   "id": "0e678d3e",
   "metadata": {},
   "source": [
    "## Converts text into Uppercase and Saves it into Python_Upper.txt"
   ]
  },
  {
   "cell_type": "code",
   "execution_count": 210,
   "id": "0d46c2a8",
   "metadata": {},
   "outputs": [],
   "source": [
    "def UpperFun():\n",
    "    with open(\"D:\\\\pythonnote\\\\Python.txt\", 'r') as reader_file:\n",
    "        lines=[]\n",
    "        for line in reader_file:\n",
    "            lines.append(line.upper())   #Appending lines into uppercase format\n",
    "    with open(\"D:\\\\pythonnote\\\\Python_Upper.txt\", 'w') as write_file:\n",
    "        for line in lines:\n",
    "            write_file.writelines(line)\n",
    "    print(\"File created and text added in Uppercase\")"
   ]
  },
  {
   "cell_type": "code",
   "execution_count": 211,
   "id": "0a7bf28f",
   "metadata": {},
   "outputs": [],
   "source": [
    "def operationFun():\n",
    "    print(\"\\n\\n-----------------------------------------------------------------------\\n\")\n",
    "    writeFun()    #Writing text into file\n",
    "    print(\"\\n\\n-----------------------------------------------------------------------\\n\")\n",
    "    reverseFun()    #1- Reversing lines\n",
    "    print(\"\\n\\n-----------------------------------------------------------------------\\n\")\n",
    "    numberFun()     #2- Number of Words and Lines\n",
    "    print(\"\\n\\n-----------------------------------------------------------------------\\n\")\n",
    "    UniqueFun()     #3- Unique word with counter\n",
    "    print(\"\\n\\n-----------------------------------------------------------------------\\n\")\n",
    "    SmallandLargeFun()     #4-Largest and Smallest Word\n",
    "    print(\"\\n\\n-----------------------------------------------------------------------\\n\")\n",
    "    UpperFun()      #5- Write it into uppercase in Python_Upper.txt\n",
    "    print(\"\\n\\n-----------------------------------------------------------------------\\n\")"
   ]
  },
  {
   "cell_type": "code",
   "execution_count": 212,
   "id": "212fe711",
   "metadata": {},
   "outputs": [
    {
     "name": "stdout",
     "output_type": "stream",
     "text": [
      "\n",
      "\n",
      "-----------------------------------------------------------------------\n",
      "\n",
      "File Written Successfully\n",
      "\n",
      "\n",
      "-----------------------------------------------------------------------\n",
      "\n",
      "File Reversed: \n",
      "\n",
      "\n",
      "The popularity of Python is growing rapidly. Now it's one of the most popular programming languages. \n",
      "\n",
      "Python allows you to write programs in fewer lines of code than most of the programming languages. \n",
      "\n",
      "Python has a lot of applications. It's used for developing web applications, data science, rapid application development, and so on. \n",
      "\n",
      "Python is easy to learn. Its syntax is easy and code is very readable. \n",
      "\n",
      "Why Learn Python? \n",
      "\n",
      "This makes Python a great language to learn for beginners. \n",
      "\n",
      "Fortunately for beginners, Python has a simple, easy-to-use syntax. \n",
      "\n",
      "It is used in machine learning, web development, desktop applications, and many other fields. \n",
      "\n",
      "It was created by Guido van Rossum, and released in 1991. \n",
      "\n",
      "Python is a popular general-purpose programming language. \n",
      "\n",
      "\n",
      "\n",
      "-----------------------------------------------------------------------\n",
      "\n",
      "Number of Lines: 10\n",
      "Number of words: 121\n",
      "\n",
      "\n",
      "-----------------------------------------------------------------------\n",
      "\n",
      "Unique Word is 'general-purpose' with 1\n",
      "\n",
      "\n",
      "-----------------------------------------------------------------------\n",
      "\n",
      "The smallest word is: a\n",
      "The largest word is: general-purpose\n",
      "\n",
      "\n",
      "-----------------------------------------------------------------------\n",
      "\n",
      "File created and text added in Uppercase\n",
      "\n",
      "\n",
      "-----------------------------------------------------------------------\n",
      "\n"
     ]
    }
   ],
   "source": [
    "operationFun()      #All Operation inside Function"
   ]
  },
  {
   "cell_type": "markdown",
   "id": "6a7c919d",
   "metadata": {},
   "source": [
    "### Developed by Harsh U. Aalwani"
   ]
  }
 ],
 "metadata": {
  "kernelspec": {
   "display_name": "Python 3 (ipykernel)",
   "language": "python",
   "name": "python3"
  },
  "language_info": {
   "codemirror_mode": {
    "name": "ipython",
    "version": 3
   },
   "file_extension": ".py",
   "mimetype": "text/x-python",
   "name": "python",
   "nbconvert_exporter": "python",
   "pygments_lexer": "ipython3",
   "version": "3.11.4"
  }
 },
 "nbformat": 4,
 "nbformat_minor": 5
}
